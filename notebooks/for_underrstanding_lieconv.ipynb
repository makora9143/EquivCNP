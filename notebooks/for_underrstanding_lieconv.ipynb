{
 "cells": [
  {
   "cell_type": "code",
   "execution_count": 1,
   "metadata": {},
   "outputs": [],
   "source": [
    "from lienp.datasets.gpcurve import RBFCurve\n",
    "from lienp.modules import LieConv\n",
    "from lienp.liegroups import T\n",
    "import matplotlib.pyplot as plt\n",
    "import torch\n",
    "from gpytorch.kernels import RBFKernel\n",
    "from torch.utils.data import DataLoader"
   ]
  },
  {
   "cell_type": "code",
   "execution_count": 2,
   "metadata": {},
   "outputs": [],
   "source": [
    "k = RBFKernel()\n",
    "group = T(1)\n",
    "r = 2\n",
    "fill = 0.15\n",
    "nbhd=5\n",
    "dataset = RBFCurve(train=True, data_range=(-2, 2))\n",
    "dl = DataLoader(dataset, batch_size=4)"
   ]
  },
  {
   "cell_type": "code",
   "execution_count": 3,
   "metadata": {},
   "outputs": [
    {
     "name": "stderr",
     "output_type": "stream",
     "text": [
      "/Users/makora/.pyenv/versions/miniconda3-latest/envs/liecnp/lib/python3.7/site-packages/gpytorch/utils/cholesky.py:43: RuntimeWarning: A not p.d., added jitter of 1e-06 to the diagonal\n",
      "  warnings.warn(f\"A not p.d., added jitter of {jitter_new} to the diagonal\", RuntimeWarning)\n"
     ]
    }
   ],
   "source": [
    "(xc, yc), (xt, yt) = iter(dl).next()\n",
    "mc = torch.ones(*xc.shape[:2], dtype=torch.bool)\n",
    "mt = torch.ones(*xt.shape[:2], dtype=torch.bool)"
   ]
  },
  {
   "cell_type": "code",
   "execution_count": 126,
   "metadata": {},
   "outputs": [],
   "source": [
    "lic = group.lift((xc, yc, mc), 1)\n",
    "lit = group.lift((xt, yt, mt), 1)\n",
    "idx = torch.randint(0, 25, size=(2,)).unsqueeze(0)\n",
    "B = torch.arange(4).long()[:, None]"
   ]
  },
  {
   "cell_type": "code",
   "execution_count": 127,
   "metadata": {},
   "outputs": [
    {
     "data": {
      "text/plain": [
       "torch.Size([4, 68, 68, 1])"
      ]
     },
     "execution_count": 127,
     "metadata": {},
     "output_type": "execute_result"
    }
   ],
   "source": [
    "lit[0].shape"
   ]
  },
  {
   "cell_type": "code",
   "execution_count": 251,
   "metadata": {},
   "outputs": [
    {
     "name": "stdout",
     "output_type": "stream",
     "text": [
      "tensor(0.2530)\n"
     ]
    }
   ],
   "source": [
    "ab_at_query = lit[0][B, idx]\n",
    "mask_at_query = lit[2][B, idx]\n",
    "dense = 1 / k(xt).evaluate().mean(-1)\n",
    "dense = dense[B, idx]\n",
    "dist_matrix = group.distance(ab_at_query)\n",
    "within_ball = (dist_matrix < r) & lit[2][:, None, :] & mask_at_query[:, :, None]\n",
    "valid_within_ball, nbhd_idx = torch.topk(within_ball + torch.zeros_like(dist_matrix).uniform_(0, 1), within_ball.sum(-1).max(), dim=-1, largest=True, sorted=False)\n",
    "valid_within_ball = valid_within_ball > 1\n",
    "current_fill = torch.sum(within_ball).float().div(mask_at_query.sum()).div(lit[2].sum())\n",
    "print(r)\n",
    "\n",
    "r += 0.5 * (fill - current_fill)\n",
    "if r < 0: r = 0.001"
   ]
  },
  {
   "cell_type": "code",
   "execution_count": 210,
   "metadata": {},
   "outputs": [],
   "source": [
    "d = group.distance(ab_at_query[B.reshape(-1, 1,1), torch.arange(2).reshape(1, -1, 1), nbhd_idx])"
   ]
  },
  {
   "cell_type": "code",
   "execution_count": 302,
   "metadata": {},
   "outputs": [
    {
     "data": {
      "text/plain": [
       "torch.Size([4, 2, 51, 1])"
      ]
     },
     "execution_count": 302,
     "metadata": {},
     "output_type": "execute_result"
    }
   ],
   "source": [
    "ab_at_query[B.reshape(-1, 1,1), torch.arange(2).reshape(1, -1, 1), nbhd_idx].shape"
   ]
  },
  {
   "cell_type": "markdown",
   "metadata": {},
   "source": [
    "# ri = torch.randint(0, d.size(-1), size=d.shape[:2])\n",
    "ti = ri % valid_within_ball.sum(-1)"
   ]
  },
  {
   "cell_type": "code",
   "execution_count": 273,
   "metadata": {},
   "outputs": [
    {
     "data": {
      "text/plain": [
       "torch.Size([4, 2, 68])"
      ]
     },
     "execution_count": 273,
     "metadata": {},
     "output_type": "execute_result"
    }
   ],
   "source": [
    "dist_matrix[torch.arange(4).long().reshape(-1, 1, 1), torch.arange(2).long().reshape(1, -1, 1), torch.arange(68).long().reshape(1, 1, -1)].shape"
   ]
  },
  {
   "cell_type": "code",
   "execution_count": 229,
   "metadata": {},
   "outputs": [],
   "source": [
    "tmpidx = torch.cat([torch.zeros(1).long(), torch.ones(4, 10).bool().sum(-1).cumsum(0)[:-1]], 0)"
   ]
  },
  {
   "cell_type": "code",
   "execution_count": 246,
   "metadata": {},
   "outputs": [
    {
     "data": {
      "text/plain": [
       "(tensor([[10,  6],\n",
       "         [42,  2],\n",
       "         [39, 25],\n",
       "         [31, 21]]), tensor([[10,  6],\n",
       "         [42,  2],\n",
       "         [39, 25],\n",
       "         [31, 21]]))"
      ]
     },
     "execution_count": 246,
     "metadata": {},
     "output_type": "execute_result"
    }
   ],
   "source": [
    "ri, ti"
   ]
  },
  {
   "cell_type": "code",
   "execution_count": 295,
   "metadata": {},
   "outputs": [
    {
     "data": {
      "text/plain": [
       "tensor([[10, 56],\n",
       "        [42, 51],\n",
       "        [39, 76],\n",
       "        [31, 53]])"
      ]
     },
     "execution_count": 295,
     "metadata": {},
     "output_type": "execute_result"
    }
   ],
   "source": [
    "ti + torch.cat([torch.zeros(4, 1).long(), valid_within_ball.sum(2).cumsum(1)[:, :-1]], 1)"
   ]
  },
  {
   "cell_type": "code",
   "execution_count": 298,
   "metadata": {},
   "outputs": [],
   "source": [
    "fi = torch.where(valid_within_ball)[2][ti]"
   ]
  },
  {
   "cell_type": "code",
   "execution_count": 299,
   "metadata": {},
   "outputs": [
    {
     "data": {
      "text/plain": [
       "torch.Size([4, 2])"
      ]
     },
     "execution_count": 299,
     "metadata": {},
     "output_type": "execute_result"
    }
   ],
   "source": [
    "fi.shape"
   ]
  },
  {
   "cell_type": "code",
   "execution_count": 300,
   "metadata": {},
   "outputs": [
    {
     "data": {
      "text/plain": [
       "torch.Size([4, 2])"
      ]
     },
     "execution_count": 300,
     "metadata": {},
     "output_type": "execute_result"
    }
   ],
   "source": [
    "dist_matrix[torch.arange(4).long().reshape(-1, 1), torch.arange(2).long().reshape(1, -1), fi].shape"
   ]
  },
  {
   "cell_type": "code",
   "execution_count": 103,
   "metadata": {},
   "outputs": [
    {
     "data": {
      "text/plain": [
       "tensor([[[0.3709, 0.2106, 0.0000, 0.1857, 0.2266, 0.3206, 0.2933, 0.0316,\n",
       "          0.2047, 0.1330],\n",
       "         [0.2814, 0.3131, 0.3153, 0.3947, 0.0000, 0.0491, 0.2344, 0.0204,\n",
       "          0.4017, 0.0208]],\n",
       "\n",
       "        [[0.4742, 0.4840, 0.3996, 0.0794, 0.5272, 0.2760, 0.4057, 0.5303,\n",
       "          0.1281, 0.3684],\n",
       "         [0.1388, 0.0845, 0.0120, 0.0149, 0.3178, 0.2244, 0.3510, 0.3538,\n",
       "          0.0190, 0.2497]],\n",
       "\n",
       "        [[0.0373, 0.1938, 0.1670, 0.0048, 0.1637, 0.0625, 0.0911, 0.0021,\n",
       "          0.2697, 0.1973],\n",
       "         [0.4801, 0.0996, 0.3859, 0.0143, 0.0602, 0.0326, 0.5606, 0.6058,\n",
       "          0.4491, 0.1149]],\n",
       "\n",
       "        [[0.2422, 0.0860, 0.2793, 0.1824, 0.2015, 0.1266, 0.1318, 0.2873,\n",
       "          0.1079, 0.0000],\n",
       "         [0.4389, 0.3443, 0.5418, 0.1314, 0.3037, 0.2154, 0.2542, 0.3473,\n",
       "          0.5059, 0.1339]]])"
      ]
     },
     "execution_count": 103,
     "metadata": {},
     "output_type": "execute_result"
    }
   ],
   "source": [
    "dist_matrix[torch.arange(4).reshape(-1, 1, 1), torch.arange(2).reshape(1, -1, 1), nbhd_idx]"
   ]
  },
  {
   "cell_type": "code",
   "execution_count": 37,
   "metadata": {},
   "outputs": [
    {
     "data": {
      "text/plain": [
       "torch.Size([4, 2])"
      ]
     },
     "execution_count": 37,
     "metadata": {},
     "output_type": "execute_result"
    }
   ],
   "source": [
    "mask_at_query[torch.arange(4).reshape(-1, 1), torch.arange(2).reshape(1, -1)].shape"
   ]
  },
  {
   "cell_type": "code",
   "execution_count": 7,
   "metadata": {},
   "outputs": [
    {
     "data": {
      "text/plain": [
       "[<matplotlib.lines.Line2D at 0x1203bc250>]"
      ]
     },
     "execution_count": 7,
     "metadata": {},
     "output_type": "execute_result"
    },
    {
     "data": {
      "image/png": "[encoded data removed]",
      "text/plain": [
       "<Figure size 432x288 with 1 Axes>"
      ]
     },
     "metadata": {
      "needs_background": "light"
     },
     "output_type": "display_data"
    }
   ],
   "source": [
    "plt.plot(xt[0, :, 0], yt[0, :, 0], '.')\n",
    "plt.plot(xt[0, :, 0][within_ball[0, 0]], yt[0, :, 0][within_ball[0, 0]], 'o', color='green')\n",
    "plt.plot(xt[0, :, 0][nbhd_idx[0, 0]], yt[0, :, 0][nbhd_idx[0, 0]], '.', color='pink')\n",
    "plt.plot(xt[0, :, 0][idx[0, 0]], yt[0, :, 0][idx[0, 0]], '.',  color='red')"
   ]
  },
  {
   "cell_type": "code",
   "execution_count": 8,
   "metadata": {},
   "outputs": [
    {
     "data": {
      "text/plain": [
       "torch.Size([4, 2, 68])"
      ]
     },
     "execution_count": 8,
     "metadata": {},
     "output_type": "execute_result"
    }
   ],
   "source": [
    "within_ball.shape\n"
   ]
  },
  {
   "cell_type": "code",
   "execution_count": 9,
   "metadata": {},
   "outputs": [],
   "source": [
    "from lienp.modules.euclid_farthersubsample import _farthest_point_sample, square_distance"
   ]
  },
  {
   "cell_type": "code",
   "execution_count": 10,
   "metadata": {},
   "outputs": [
    {
     "data": {
      "text/plain": [
       "torch.Size([4, 1, 2, 68])"
      ]
     },
     "execution_count": 10,
     "metadata": {},
     "output_type": "execute_result"
    }
   ],
   "source": [
    "dist_matrix[torch.arange(4).reshape(-1, 1)].shape"
   ]
  },
  {
   "cell_type": "code",
   "execution_count": 11,
   "metadata": {},
   "outputs": [
    {
     "data": {
      "text/plain": [
       "torch.Size([4, 2, 10, 1])"
      ]
     },
     "execution_count": 11,
     "metadata": {},
     "output_type": "execute_result"
    }
   ],
   "source": [
    "ab_at_query[torch.arange(4).reshape(-1, 1, 1), torch.arange(2).reshape(1, -1, 1), nbhd_idx].shape"
   ]
  },
  {
   "cell_type": "code",
   "execution_count": 12,
   "metadata": {},
   "outputs": [
    {
     "data": {
      "text/plain": [
       "tensor([[0, 1, 1, 1, 1],\n",
       "        [1, 1, 1, 1, 1],\n",
       "        [1, 1, 1, 1, 1],\n",
       "        [0, 1, 1, 1, 1]])"
      ]
     },
     "execution_count": 12,
     "metadata": {},
     "output_type": "execute_result"
    }
   ],
   "source": [
    "_farthest_point_sample(within_ball.float(), 5, square_distance)"
   ]
  },
  {
   "cell_type": "code",
   "execution_count": 13,
   "metadata": {},
   "outputs": [
    {
     "ename": "NameError",
     "evalue": "name 'M' is not defined",
     "output_type": "error",
     "traceback": [
      "\u001b[0;31m---------------------------------------------------------------------------\u001b[0m",
      "\u001b[0;31mNameError\u001b[0m                                 Traceback (most recent call last)",
      "\u001b[0;32m<ipython-input-13-c6e48e7a947f>\u001b[0m in \u001b[0;36m<module>\u001b[0;34m\u001b[0m\n\u001b[0;32m----> 1\u001b[0;31m \u001b[0mfarthest_indices\u001b[0m \u001b[0;34m=\u001b[0m \u001b[0mtorch\u001b[0m\u001b[0;34m.\u001b[0m\u001b[0mrandint\u001b[0m\u001b[0;34m(\u001b[0m\u001b[0mlow\u001b[0m\u001b[0;34m=\u001b[0m\u001b[0;36m0\u001b[0m\u001b[0;34m,\u001b[0m \u001b[0mhigh\u001b[0m\u001b[0;34m=\u001b[0m\u001b[0mM\u001b[0m\u001b[0;34m,\u001b[0m \u001b[0msize\u001b[0m\u001b[0;34m=\u001b[0m\u001b[0;34m(\u001b[0m\u001b[0mB\u001b[0m\u001b[0;34m,\u001b[0m \u001b[0mN\u001b[0m\u001b[0;34m)\u001b[0m\u001b[0;34m)\u001b[0m\u001b[0;34m.\u001b[0m\u001b[0mto\u001b[0m\u001b[0;34m(\u001b[0m\u001b[0mdevice\u001b[0m\u001b[0;34m)\u001b[0m\u001b[0;34m\u001b[0m\u001b[0;34m\u001b[0m\u001b[0m\n\u001b[0m",
      "\u001b[0;31mNameError\u001b[0m: name 'M' is not defined"
     ]
    }
   ],
   "source": [
    " farthest_indices = torch.randint(low=0, high=M, size=(B, N)).to(device)"
   ]
  },
  {
   "cell_type": "code",
   "execution_count": 14,
   "metadata": {},
   "outputs": [],
   "source": [
    "def _farthest_point_sample(points, n_sample, distance):\n",
    "    \"\"\"Sampling farthest points from random point\n",
    "\n",
    "    Args:\n",
    "        points: point-cloud data index, (B, N, D)\n",
    "        n_sample: number of samples\n",
    "\n",
    "    Returns:\n",
    "        centroids: sampled point-cloud data index, (B, n_sample)\n",
    "\n",
    "    \"\"\"\n",
    "    B, N, D = points.shape\n",
    "    device = points.device\n",
    "    centroids = torch.zeros(B, N, n_sample).long().to(device)\n",
    "    distances = torch.ones(B, N).to(device) * 1e8\n",
    "\n",
    "    farthest_indices = torch.randint(low=0, high=N, size=(B,)).to(device)\n",
    "    batch_indices = torch.arange(B).to(device)\n",
    "    for i in range(n_sample):\n",
    "        centroids[:, i] = farthest_indices\n",
    "        centroid = points[batch_indices, farthest_indices, :].reshape(B, 1, D)\n",
    "        dist = distance(points, centroid)  # [B, N, 1]\n",
    "        mask = dist < distances\n",
    "        distances[mask] = dist[mask]\n",
    "        farthest_indices = distances.max(-1)[1]\n",
    "    return centroids"
   ]
  },
  {
   "cell_type": "code",
   "execution_count": 319,
   "metadata": {},
   "outputs": [],
   "source": [
    "data= torch.linspace(-2, 2, 20)\n",
    "mask = torch.zeros(20)\n",
    "mask[5:14] = 1.\n",
    "mask = mask.bool()"
   ]
  },
  {
   "cell_type": "code",
   "execution_count": 326,
   "metadata": {},
   "outputs": [
    {
     "data": {
      "text/plain": [
       "[<matplotlib.lines.Line2D at 0x1285add50>]"
      ]
     },
     "execution_count": 326,
     "metadata": {},
     "output_type": "execute_result"
    },
    {
     "data": {
      "image/png": "[encoded data removed]",
      "text/plain": [
       "<Figure size 432x288 with 1 Axes>"
      ]
     },
     "metadata": {
      "needs_background": "light"
     },
     "output_type": "display_data"
    }
   ],
   "source": [
    "plt.plot(data, torch.ones_like(data), '.')\n",
    "plt.plot(data[mask], torch.ones_like(data)[mask], 'o')\n",
    "plt.plot(data[9], torch.ones(1), '.', color='blue')"
   ]
  },
  {
   "cell_type": "code",
   "execution_count": null,
   "metadata": {},
   "outputs": [],
   "source": []
  }
 ],
 "metadata": {
  "kernelspec": {
   "display_name": "liecnp",
   "language": "python",
   "name": "liecnp"
  },
  "language_info": {
   "codemirror_mode": {
    "name": "ipython",
    "version": 3
   },
   "file_extension": ".py",
   "mimetype": "text/x-python",
   "name": "python",
   "nbconvert_exporter": "python",
   "pygments_lexer": "ipython3",
   "version": "3.7.6"
  }
 },
 "nbformat": 4,
 "nbformat_minor": 4
}
