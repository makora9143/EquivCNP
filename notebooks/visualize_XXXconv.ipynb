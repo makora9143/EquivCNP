{
 "cells": [
  {
   "cell_type": "code",
   "execution_count": 1,
   "metadata": {},
   "outputs": [],
   "source": [
    "from lienp.modules.pointconv import PointConv\n",
    "from lienp.liegroups import SO2"
   ]
  },
  {
   "cell_type": "code",
   "execution_count": 2,
   "metadata": {},
   "outputs": [],
   "source": [
    "from lienp.datasets import RotationMNIST\n",
    "from lienp.datasets import MetaImageDataset\n",
    "import torchvision.transforms as tf\n",
    "import matplotlib.pyplot as plt\n",
    "from torchvision.datasets import CIFAR10\n",
    "from torch.utils.data import DataLoader\n",
    "from lienp.models import CNP\n",
    "import torch"
   ]
  },
  {
   "cell_type": "code",
   "execution_count": 3,
   "metadata": {},
   "outputs": [],
   "source": [
    "dataset = RotationMNIST('~/data/rotmnist', transform=tf.ToTensor())\n",
    "# dataset = CIFAR10('/Users/makora/data/cifar10', transform=tf.ToTensor())"
   ]
  },
  {
   "cell_type": "code",
   "execution_count": 4,
   "metadata": {},
   "outputs": [],
   "source": [
    "d = MetaImageDataset(dataset, train=False, max_total=500)"
   ]
  },
  {
   "cell_type": "code",
   "execution_count": 5,
   "metadata": {},
   "outputs": [
    {
     "data": {
      "text/plain": [
       "MetaImageDataset:\n",
       "Dataset RotationMNIST\n",
       "    Number of datapoints: 12000\n",
       "    Root location: /Users/makora/data/rotmnist\n",
       "    Split: Train\n",
       "    StandardTransform\n",
       "Transform: ToTensor()"
      ]
     },
     "execution_count": 5,
     "metadata": {},
     "output_type": "execute_result"
    }
   ],
   "source": [
    "d"
   ]
  },
  {
   "cell_type": "code",
   "execution_count": 6,
   "metadata": {},
   "outputs": [],
   "source": [
    "iterdl = iter(DataLoader(d, batch_size=4, shuffle=False))"
   ]
  },
  {
   "cell_type": "code",
   "execution_count": 7,
   "metadata": {},
   "outputs": [],
   "source": [
    "def mnist_plot_function(target_x, target_y, context_x, context_y):\n",
    "    img = torch.zeros((28, 28, 3))\n",
    "    img[:, :, 2] = torch.ones((28, 28))\n",
    "    idx = (context_x + 14).clamp(0, 27).long()\n",
    "    img[idx[:, 0], idx[:, 1]] = context_y\n",
    "    print(img[idx[:, 0], idx[:, 1]].shape)\n",
    "    print(context_y.shape)\n",
    "    print(f'num context:{context_x.shape[0]}')\n",
    "    plt.figure(figsize=(8, 4))\n",
    "    plt.subplot(121)\n",
    "    plt.imshow(img.numpy())\n",
    "    plt.gray()\n",
    "    plt.subplot(122)\n",
    "    plt.imshow(target_y.reshape(28, 28).numpy())\n",
    "    plt.show()"
   ]
  },
  {
   "cell_type": "code",
   "execution_count": 8,
   "metadata": {},
   "outputs": [
    {
     "name": "stdout",
     "output_type": "stream",
     "text": [
      "torch.Size([410, 3])\n",
      "torch.Size([410, 1])\n",
      "num context:410\n"
     ]
    },
    {
     "data": {
      "image/png": "[encoded data removed]",
      "text/plain": [
       "<Figure size 576x288 with 2 Axes>"
      ]
     },
     "metadata": {
      "needs_background": "light"
     },
     "output_type": "display_data"
    }
   ],
   "source": [
    "c, t = iterdl.next()\n",
    "mnist_plot_function(t[0][0], t[1][0], c[0][0], c[1][0])"
   ]
  },
  {
   "cell_type": "code",
   "execution_count": 9,
   "metadata": {},
   "outputs": [],
   "source": [
    "img = t[1].reshape(4, 1, 28, 28)"
   ]
  },
  {
   "cell_type": "code",
   "execution_count": 10,
   "metadata": {},
   "outputs": [],
   "source": [
    "import math\n",
    "angles = torch.rand(4) * 2 * math.pi"
   ]
  },
  {
   "cell_type": "code",
   "execution_count": 11,
   "metadata": {},
   "outputs": [
    {
     "data": {
      "text/plain": [
       "tensor([0.5328, 3.8418, 5.4154, 0.9630])"
      ]
     },
     "execution_count": 11,
     "metadata": {},
     "output_type": "execute_result"
    }
   ],
   "source": [
    "angles"
   ]
  },
  {
   "cell_type": "code",
   "execution_count": 12,
   "metadata": {},
   "outputs": [],
   "source": [
    "affineMatrices = torch.zeros(4, 2, 3)\n",
    "affineMatrices[:,0,0] = angles.cos()\n",
    "affineMatrices[:,1,1] = angles.cos()\n",
    "affineMatrices[:,0,1] = angles.sin()\n",
    "affineMatrices[:,1,0] = -angles.sin()\n",
    "max_trans = 0\n",
    "affineMatrices[:,0,2] = (2*torch.rand(4)-1)*max_trans/28\n",
    "affineMatrices[:,1,2] = (2*torch.rand(4)-1)*max_trans/28"
   ]
  },
  {
   "cell_type": "code",
   "execution_count": 13,
   "metadata": {},
   "outputs": [
    {
     "data": {
      "text/plain": [
       "tensor([[[ 0.8614,  0.5079,  0.0000],\n",
       "         [-0.5079,  0.8614,  0.0000]],\n",
       "\n",
       "        [[-0.7647, -0.6444, -0.0000],\n",
       "         [ 0.6444, -0.7647,  0.0000]],\n",
       "\n",
       "        [[ 0.6466, -0.7629,  0.0000],\n",
       "         [ 0.7629,  0.6466,  0.0000]],\n",
       "\n",
       "        [[ 0.5710,  0.8209, -0.0000],\n",
       "         [-0.8209,  0.5710, -0.0000]]])"
      ]
     },
     "execution_count": 13,
     "metadata": {},
     "output_type": "execute_result"
    }
   ],
   "source": [
    "affineMatrices"
   ]
  },
  {
   "cell_type": "code",
   "execution_count": 14,
   "metadata": {},
   "outputs": [],
   "source": [
    "from torchvision.transforms import ToPILImage\n",
    "from lienp.transforms import RandomRotation"
   ]
  },
  {
   "cell_type": "code",
   "execution_count": 15,
   "metadata": {},
   "outputs": [
    {
     "data": {
      "text/plain": [
       "RandomRotation(degrees=(-3, 3), resample=False, expand=False)"
      ]
     },
     "execution_count": 15,
     "metadata": {},
     "output_type": "execute_result"
    }
   ],
   "source": [
    "RandomRotation(3)"
   ]
  },
  {
   "cell_type": "code",
   "execution_count": 16,
   "metadata": {},
   "outputs": [],
   "source": [
    "dataset = RotationMNIST('~/data/rotmnist', transform=tf.Compose([RandomRotation(degrees=180), tf.ToTensor()]))"
   ]
  },
  {
   "cell_type": "code",
   "execution_count": 17,
   "metadata": {},
   "outputs": [
    {
     "data": {
      "text/plain": [
       "[None, ToTensor()]"
      ]
     },
     "execution_count": 17,
     "metadata": {},
     "output_type": "execute_result"
    }
   ],
   "source": [
    "aug= False\n",
    "[RandomRotation(180) if aug else None,\n",
    " tf.ToTensor()]"
   ]
  },
  {
   "cell_type": "code",
   "execution_count": 18,
   "metadata": {},
   "outputs": [
    {
     "data": {
      "text/plain": [
       "<matplotlib.image.AxesImage at 0x12f315890>"
      ]
     },
     "execution_count": 18,
     "metadata": {},
     "output_type": "execute_result"
    },
    {
     "data": {
      "image/png": "[encoded data removed]",
      "text/plain": [
       "<Figure size 432x288 with 1 Axes>"
      ]
     },
     "metadata": {
      "needs_background": "light"
     },
     "output_type": "display_data"
    }
   ],
   "source": [
    "plt.imshow(dataset[0][0].reshape(28, 28))"
   ]
  },
  {
   "cell_type": "code",
   "execution_count": 19,
   "metadata": {},
   "outputs": [
    {
     "data": {
      "text/plain": [
       "<matplotlib.image.AxesImage at 0x131996550>"
      ]
     },
     "execution_count": 19,
     "metadata": {},
     "output_type": "execute_result"
    },
    {
     "data": {
      "image/png": "[encoded data removed]",
      "text/plain": [
       "<Figure size 432x288 with 1 Axes>"
      ]
     },
     "metadata": {
      "needs_background": "light"
     },
     "output_type": "display_data"
    }
   ],
   "source": [
    "dataset = RotationMNIST('~/data/rotmnist', transform=tf.Compose([tf.ToTensor()]))\n",
    "plt.imshow(dataset[0][0].reshape(28, 28))"
   ]
  },
  {
   "cell_type": "code",
   "execution_count": 20,
   "metadata": {},
   "outputs": [],
   "source": [
    "from lienp.modules.pointconv import WeightNet"
   ]
  },
  {
   "cell_type": "markdown",
   "metadata": {},
   "source": [
    "# PointConvの範囲可視化"
   ]
  },
  {
   "cell_type": "code",
   "execution_count": 21,
   "metadata": {},
   "outputs": [],
   "source": [
    "from lienp.modules.pointconv import PointConv"
   ]
  },
  {
   "cell_type": "code",
   "execution_count": 22,
   "metadata": {},
   "outputs": [],
   "source": [
    "pc = PointConv(1, 3, coords_dim=2, sampling_fraction=1, use_bn=True)"
   ]
  },
  {
   "cell_type": "code",
   "execution_count": 23,
   "metadata": {},
   "outputs": [],
   "source": [
    "from lienp.utils import index_points, knn_points\n",
    "from lienp.modules.euclid_farthersubsample import _farthest_point_sample\n",
    "idx = _farthest_point_sample(t[0], 1, pc.subsample.distance)\n",
    "if len(t) == 2:\n",
    "    t.append(torch.ones(t[0].shape[:2]).bool())\n",
    "query_coords = index_points(t[0], idx)\n",
    "query_values = index_points(t[1], idx)\n",
    "query_mask = index_points(t[2], idx)\n",
    "\n",
    "nbhd_idx = knn_points(81, t[0][:,:,:None], query_coords[:,:,:None], t[2])\n",
    "nbhd_coords = index_points(t[0], nbhd_idx)\n",
    "nbhd_values = index_points(t[1], nbhd_idx)\n",
    "nbhd_mask = index_points(t[2], nbhd_idx)\n",
    "\n",
    "coords_deltas = pc.get_embedded_group_elements(query_coords.unsqueeze(2), nbhd_coords)\n",
    "convolved_values = pc.point_conv(coords_deltas, nbhd_values, nbhd_mask)"
   ]
  },
  {
   "cell_type": "code",
   "execution_count": 24,
   "metadata": {},
   "outputs": [
    {
     "data": {
      "text/plain": [
       "<matplotlib.image.AxesImage at 0x1023f5c50>"
      ]
     },
     "execution_count": 24,
     "metadata": {},
     "output_type": "execute_result"
    },
    {
     "data": {
      "image/png": "[encoded data removed]",
      "text/plain": [
       "<Figure size 432x288 with 1 Axes>"
      ]
     },
     "metadata": {
      "needs_background": "light"
     },
     "output_type": "display_data"
    }
   ],
   "source": [
    "img = t[1][0].reshape(28, 28, 1).repeat(1, 1, 3)\n",
    "plt.imshow(img)\n",
    "# img[idx[0]//28, idx[0]%28, 0] = torch.ones(1)\n",
    "# img[idx[0]//28, idx[0]%28, 1:] = torch.zeros(2)\n",
    "tmp_idx = nbhd_idx[0].reshape(-1)\n",
    "img[tmp_idx//28, tmp_idx%28] = torch.tensor([242/255, 120/255, 40/255])\n",
    "img[idx[0]//28, idx[0]%28] = torch.tensor([1.0, 0, 0])\n",
    "plt.imshow(img)"
   ]
  },
  {
   "cell_type": "code",
   "execution_count": 25,
   "metadata": {},
   "outputs": [
    {
     "name": "stderr",
     "output_type": "stream",
     "text": [
      "Clipping input data to the valid range for imshow with RGB data ([0..1] for floats or [0..255] for integers).\n"
     ]
    },
    {
     "data": {
      "text/plain": [
       "<matplotlib.image.AxesImage at 0x134207610>"
      ]
     },
     "execution_count": 25,
     "metadata": {},
     "output_type": "execute_result"
    },
    {
     "data": {
      "image/png": "[encoded data removed]",
      "text/plain": [
       "<Figure size 432x288 with 1 Axes>"
      ]
     },
     "metadata": {
      "needs_background": "light"
     },
     "output_type": "display_data"
    }
   ],
   "source": [
    "fm = torch.zeros(28, 28, 3)\n",
    "fm[idx[0]//28, idx[0]%28] = convolved_values[0].detach()\n",
    "plt.imshow(fm)"
   ]
  },
  {
   "cell_type": "markdown",
   "metadata": {},
   "source": [
    "# PointConvの可視化"
   ]
  },
  {
   "cell_type": "code",
   "execution_count": 26,
   "metadata": {},
   "outputs": [
    {
     "name": "stderr",
     "output_type": "stream",
     "text": [
      "Clipping input data to the valid range for imshow with RGB data ([0..1] for floats or [0..255] for integers).\n"
     ]
    },
    {
     "data": {
      "text/plain": [
       "<matplotlib.image.AxesImage at 0x134283710>"
      ]
     },
     "execution_count": 26,
     "metadata": {},
     "output_type": "execute_result"
    },
    {
     "data": {
      "image/png": "[encoded data removed]",
      "text/plain": [
       "<Figure size 432x288 with 1 Axes>"
      ]
     },
     "metadata": {
      "needs_background": "light"
     },
     "output_type": "display_data"
    }
   ],
   "source": [
    "pcnn = PointConv(1, 3, coords_dim=2, sampling_fraction=1., num_nbhd=25, use_bn=True, mean=False)\n",
    "plt.imshow(pcnn(t)[1][0].reshape(28, 28, 3).detach())"
   ]
  },
  {
   "cell_type": "code",
   "execution_count": 27,
   "metadata": {},
   "outputs": [
    {
     "name": "stderr",
     "output_type": "stream",
     "text": [
      "Clipping input data to the valid range for imshow with RGB data ([0..1] for floats or [0..255] for integers).\n"
     ]
    },
    {
     "data": {
      "text/plain": [
       "<matplotlib.image.AxesImage at 0x12f6baa10>"
      ]
     },
     "execution_count": 27,
     "metadata": {},
     "output_type": "execute_result"
    },
    {
     "data": {
      "image/png": "[encoded data removed]",
      "text/plain": [
       "<Figure size 432x288 with 1 Axes>"
      ]
     },
     "metadata": {
      "needs_background": "light"
     },
     "output_type": "display_data"
    }
   ],
   "source": [
    "from torch import nn\n",
    "cnn = nn.Conv2d(1, 3, 5, 1, 2, padding_mode='reflect')\n",
    "plt.imshow(cnn(t[1][0].reshape(1, 1, 28, 28)).reshape(-1, 28, 28).detach().permute(1, 2, 0))"
   ]
  },
  {
   "cell_type": "code",
   "execution_count": 28,
   "metadata": {},
   "outputs": [],
   "source": [
    "from lienp.models import PointCNP"
   ]
  },
  {
   "cell_type": "code",
   "execution_count": 29,
   "metadata": {},
   "outputs": [],
   "source": [
    "model = PointCNP(2, 1)"
   ]
  },
  {
   "cell_type": "code",
   "execution_count": 30,
   "metadata": {},
   "outputs": [],
   "source": [
    "a = model(c, t[0])"
   ]
  },
  {
   "cell_type": "code",
   "execution_count": 31,
   "metadata": {},
   "outputs": [
    {
     "data": {
      "text/plain": [
       "<matplotlib.image.AxesImage at 0x142f6a290>"
      ]
     },
     "execution_count": 31,
     "metadata": {},
     "output_type": "execute_result"
    },
    {
     "data": {
      "image/png": "[encoded data removed]",
      "text/plain": [
       "<Figure size 432x288 with 1 Axes>"
      ]
     },
     "metadata": {
      "needs_background": "light"
     },
     "output_type": "display_data"
    }
   ],
   "source": [
    "plt.imshow(a[0][0].reshape(28, 28).detach())"
   ]
  },
  {
   "cell_type": "markdown",
   "metadata": {},
   "source": [
    "\n",
    "# LieConvの範囲可視化"
   ]
  },
  {
   "cell_type": "code",
   "execution_count": 85,
   "metadata": {},
   "outputs": [],
   "source": [
    "from lienp.liegroups import *\n",
    "from lienp.models import LieCNP\n",
    "from lienp.modules import LieConv\n",
    "from lienp.modules.group_farthersubsample import GroupFartherSubsample\n",
    "from torchvision.transforms import Pad, ToTensor, ToPILImage"
   ]
  },
  {
   "cell_type": "code",
   "execution_count": 81,
   "metadata": {},
   "outputs": [],
   "source": [
    "r = 2\n",
    "group = T(2)\n",
    "lifted_inputs = group.lift(t, 1)\n",
    "B = torch.arange(4).long()[:, None]\n"
   ]
  },
  {
   "cell_type": "code",
   "execution_count": 82,
   "metadata": {},
   "outputs": [],
   "source": [
    "idx = GroupFartherSubsample( 0.01/8, group=group)(lifted_inputs, withquery=True)[3]\n",
    "ab_at_query = lifted_inputs[0][B, idx]\n",
    "mask_at_query = lifted_inputs[2][B, idx]\n",
    "dist_matrix = group.distance(ab_at_query)\n",
    "dist_matrix= torch.where(lifted_inputs[2][:, None, :], dist_matrix, 1e8 * torch.ones_like(dist_matrix))"
   ]
  },
  {
   "cell_type": "code",
   "execution_count": 83,
   "metadata": {},
   "outputs": [
    {
     "name": "stdout",
     "output_type": "stream",
     "text": [
      "2\n"
     ]
    }
   ],
   "source": [
    "print(r)\n",
    "within_ball = (dist_matrix < r) & lifted_inputs[2][:, None, :] & mask_at_query[:, :, None]\n",
    "r += 1./20 - within_ball.float().sum(-1).sum() / mask_at_query[:, :, None].sum() /  lifted_inputs[2].sum(-1).float().mean()\n",
    "nbhd_idx = torch.topk(within_ball + torch.zeros_like(dist_matrix).uniform_(0, 1), 81, dim=-1, largest=True, sorted=False)[1]"
   ]
  },
  {
   "cell_type": "code",
   "execution_count": 109,
   "metadata": {},
   "outputs": [
    {
     "data": {
      "text/plain": [
       "<matplotlib.image.AxesImage at 0x146215ad0>"
      ]
     },
     "execution_count": 109,
     "metadata": {},
     "output_type": "execute_result"
    },
    {
     "data": {
      "image/png": "[encoded data removed]",
      "text/plain": [
       "<Figure size 432x288 with 1 Axes>"
      ]
     },
     "metadata": {
      "needs_background": "light"
     },
     "output_type": "display_data"
    }
   ],
   "source": [
    "img = t[1][0].reshape(28, 28, 1).repeat(1, 1, 3)\n",
    "plt.imshow(img)\n",
    "img[within_ball[0, 0].reshape(28, 28)] = torch.tensor([0.3, 0.9, 0.5])\n",
    "# img[idx[0]//28, idx[0]%28, 0] = torch.ones(1)\n",
    "# img[idx[0]//28, idx[0]%28, 1:] = torch.zeros(2)\n",
    "tmp_idx = nbhd_idx[0].reshape(-1)\n",
    "img[tmp_idx//28, tmp_idx%28] = torch.tensor([242/255, 120/255, 40/255])\n",
    "img[idx[0]//28, idx[0]%28] = torch.tensor([1.0, 0, 0])\n",
    "plt.imshow(img)"
   ]
  },
  {
   "cell_type": "code",
   "execution_count": 37,
   "metadata": {},
   "outputs": [],
   "source": [
    "x = torch.stack([dataset[0][0], dataset[1][0]], 0)"
   ]
  },
  {
   "cell_type": "code",
   "execution_count": 38,
   "metadata": {},
   "outputs": [],
   "source": [
    "from lienp.models.convcnp import GridConvCNP"
   ]
  },
  {
   "cell_type": "code",
   "execution_count": 39,
   "metadata": {},
   "outputs": [],
   "source": [
    "cnn = GridConvCNP(1)"
   ]
  },
  {
   "cell_type": "code",
   "execution_count": 40,
   "metadata": {},
   "outputs": [],
   "source": [
    "from gpytorch.distributions import MultivariateNormal"
   ]
  },
  {
   "cell_type": "code",
   "execution_count": 41,
   "metadata": {},
   "outputs": [],
   "source": [
    "m,s,mask = cnn(x)"
   ]
  },
  {
   "cell_type": "code",
   "execution_count": 42,
   "metadata": {},
   "outputs": [
    {
     "data": {
      "text/plain": [
       "torch.Size([2, 1, 28, 28])"
      ]
     },
     "execution_count": 42,
     "metadata": {},
     "output_type": "execute_result"
    }
   ],
   "source": [
    "mask.shape"
   ]
  },
  {
   "cell_type": "code",
   "execution_count": 43,
   "metadata": {},
   "outputs": [
    {
     "data": {
      "text/plain": [
       "<matplotlib.image.AxesImage at 0x13bcb19d0>"
      ]
     },
     "execution_count": 43,
     "metadata": {},
     "output_type": "execute_result"
    },
    {
     "data": {
      "image/png": "[encoded data removed]",
      "text/plain": [
       "<Figure size 432x288 with 1 Axes>"
      ]
     },
     "metadata": {
      "needs_background": "light"
     },
     "output_type": "display_data"
    }
   ],
   "source": [
    "plt.imshow(mask[0,0] * x[0, 0])"
   ]
  },
  {
   "cell_type": "code",
   "execution_count": 44,
   "metadata": {},
   "outputs": [
    {
     "data": {
      "image/png": "[encoded data removed]",
      "text/plain": [
       "<Figure size 576x288 with 1 Axes>"
      ]
     },
     "metadata": {
      "needs_background": "light"
     },
     "output_type": "display_data"
    }
   ],
   "source": [
    "tmp = torch.zeros((28, 28, 3))\n",
    "tmp[:, :, 2] = torch.ones((28, 28))\n",
    "tmp[mask[0, 0] == 1] = x[0, 0][mask[0, 0] == 1].unsqueeze(-1)\n",
    "# img[idx[:, 0], idx[:, 1]] = context_y\n",
    "# print(img[idx[:, 0], idx[:, 1]].shape)\n",
    "# print(context_y.shape)\n",
    "# print(f'num context:{context_x.shape[0]}')\n",
    "plt.figure(figsize=(8, 4))\n",
    "plt.subplot(121)\n",
    "plt.imshow(tmp.numpy())\n",
    "plt.gray()\n",
    "# plt.subplot(122)\n",
    "# plt.imshow(target_y.reshape(28, 28).numpy())\n",
    "# plt.show()"
   ]
  },
  {
   "cell_type": "code",
   "execution_count": 45,
   "metadata": {},
   "outputs": [
    {
     "data": {
      "text/plain": [
       "tensor([[0.0000e+00, 0.0000e+00, 0.0000e+00],\n",
       "        [0.0000e+00, 0.0000e+00, 0.0000e+00],\n",
       "        [0.0000e+00, 0.0000e+00, 0.0000e+00],\n",
       "        [0.0000e+00, 0.0000e+00, 0.0000e+00],\n",
       "        [0.0000e+00, 0.0000e+00, 0.0000e+00],\n",
       "        [0.0000e+00, 0.0000e+00, 0.0000e+00],\n",
       "        [0.0000e+00, 0.0000e+00, 0.0000e+00],\n",
       "        [0.0000e+00, 0.0000e+00, 0.0000e+00],\n",
       "        [0.0000e+00, 0.0000e+00, 0.0000e+00],\n",
       "        [0.0000e+00, 0.0000e+00, 0.0000e+00],\n",
       "        [0.0000e+00, 0.0000e+00, 0.0000e+00],\n",
       "        [0.0000e+00, 0.0000e+00, 0.0000e+00],\n",
       "        [0.0000e+00, 0.0000e+00, 0.0000e+00],\n",
       "        [0.0000e+00, 0.0000e+00, 0.0000e+00],\n",
       "        [0.0000e+00, 0.0000e+00, 0.0000e+00],\n",
       "        [0.0000e+00, 0.0000e+00, 0.0000e+00],\n",
       "        [0.0000e+00, 0.0000e+00, 0.0000e+00],\n",
       "        [2.1530e-03, 2.1530e-03, 2.1530e-03],\n",
       "        [0.0000e+00, 0.0000e+00, 0.0000e+00],\n",
       "        [0.0000e+00, 0.0000e+00, 0.0000e+00],\n",
       "        [0.0000e+00, 0.0000e+00, 0.0000e+00],\n",
       "        [0.0000e+00, 0.0000e+00, 0.0000e+00],\n",
       "        [0.0000e+00, 0.0000e+00, 0.0000e+00],\n",
       "        [0.0000e+00, 0.0000e+00, 0.0000e+00],\n",
       "        [0.0000e+00, 0.0000e+00, 0.0000e+00],\n",
       "        [0.0000e+00, 0.0000e+00, 0.0000e+00],\n",
       "        [3.3590e-03, 3.3590e-03, 3.3590e-03],\n",
       "        [8.0499e-02, 8.0499e-02, 8.0499e-02],\n",
       "        [0.0000e+00, 0.0000e+00, 0.0000e+00],\n",
       "        [0.0000e+00, 0.0000e+00, 0.0000e+00],\n",
       "        [0.0000e+00, 0.0000e+00, 0.0000e+00],\n",
       "        [0.0000e+00, 0.0000e+00, 0.0000e+00],\n",
       "        [9.7292e-02, 9.7292e-02, 9.7292e-02],\n",
       "        [1.4974e-01, 1.4974e-01, 1.4974e-01],\n",
       "        [0.0000e+00, 0.0000e+00, 0.0000e+00],\n",
       "        [0.0000e+00, 0.0000e+00, 0.0000e+00],\n",
       "        [0.0000e+00, 0.0000e+00, 0.0000e+00],\n",
       "        [0.0000e+00, 0.0000e+00, 0.0000e+00],\n",
       "        [0.0000e+00, 0.0000e+00, 0.0000e+00],\n",
       "        [0.0000e+00, 0.0000e+00, 0.0000e+00],\n",
       "        [1.4251e-01, 1.4251e-01, 1.4251e-01],\n",
       "        [3.9968e-01, 3.9968e-01, 3.9968e-01],\n",
       "        [0.0000e+00, 0.0000e+00, 0.0000e+00],\n",
       "        [0.0000e+00, 0.0000e+00, 0.0000e+00],\n",
       "        [0.0000e+00, 0.0000e+00, 0.0000e+00],\n",
       "        [0.0000e+00, 0.0000e+00, 0.0000e+00],\n",
       "        [9.3535e-01, 9.3535e-01, 9.3535e-01],\n",
       "        [5.8385e-01, 5.8385e-01, 5.8385e-01],\n",
       "        [3.7000e-05, 3.7000e-05, 3.7000e-05],\n",
       "        [0.0000e+00, 0.0000e+00, 0.0000e+00],\n",
       "        [0.0000e+00, 0.0000e+00, 0.0000e+00],\n",
       "        [0.0000e+00, 0.0000e+00, 0.0000e+00],\n",
       "        [0.0000e+00, 0.0000e+00, 0.0000e+00],\n",
       "        [6.9101e-01, 6.9101e-01, 6.9101e-01],\n",
       "        [7.0215e-01, 7.0215e-01, 7.0215e-01],\n",
       "        [8.7496e-01, 8.7496e-01, 8.7496e-01],\n",
       "        [0.0000e+00, 0.0000e+00, 0.0000e+00],\n",
       "        [0.0000e+00, 0.0000e+00, 0.0000e+00],\n",
       "        [0.0000e+00, 0.0000e+00, 0.0000e+00],\n",
       "        [0.0000e+00, 0.0000e+00, 0.0000e+00],\n",
       "        [0.0000e+00, 0.0000e+00, 0.0000e+00],\n",
       "        [1.5000e-05, 1.5000e-05, 1.5000e-05],\n",
       "        [9.3253e-01, 9.3253e-01, 9.3253e-01],\n",
       "        [5.6472e-01, 5.6472e-01, 5.6472e-01],\n",
       "        [1.8403e-02, 1.8403e-02, 1.8403e-02],\n",
       "        [4.9355e-01, 4.9355e-01, 4.9355e-01],\n",
       "        [9.8511e-01, 9.8511e-01, 9.8511e-01],\n",
       "        [0.0000e+00, 0.0000e+00, 0.0000e+00],\n",
       "        [0.0000e+00, 0.0000e+00, 0.0000e+00],\n",
       "        [0.0000e+00, 0.0000e+00, 0.0000e+00],\n",
       "        [9.7935e-01, 9.7935e-01, 9.7935e-01],\n",
       "        [6.6465e-01, 6.6465e-01, 6.6465e-01],\n",
       "        [2.9400e-04, 2.9400e-04, 2.9400e-04],\n",
       "        [0.0000e+00, 0.0000e+00, 0.0000e+00],\n",
       "        [0.0000e+00, 0.0000e+00, 0.0000e+00],\n",
       "        [3.0000e-06, 3.0000e-06, 3.0000e-06],\n",
       "        [1.8535e-01, 1.8535e-01, 1.8535e-01],\n",
       "        [0.0000e+00, 0.0000e+00, 0.0000e+00],\n",
       "        [0.0000e+00, 0.0000e+00, 0.0000e+00],\n",
       "        [1.0000e-06, 1.0000e-06, 1.0000e-06],\n",
       "        [9.8505e-01, 9.8505e-01, 9.8505e-01],\n",
       "        [3.0000e-06, 3.0000e-06, 3.0000e-06],\n",
       "        [5.7604e-01, 5.7604e-01, 5.7604e-01],\n",
       "        [1.4839e-02, 1.4839e-02, 1.4839e-02],\n",
       "        [7.3997e-01, 7.3997e-01, 7.3997e-01],\n",
       "        [0.0000e+00, 0.0000e+00, 0.0000e+00],\n",
       "        [9.8350e-03, 9.8350e-03, 9.8350e-03],\n",
       "        [1.5288e-01, 1.5288e-01, 1.5288e-01],\n",
       "        [8.0086e-01, 8.0086e-01, 8.0086e-01],\n",
       "        [8.3527e-01, 8.3527e-01, 8.3527e-01],\n",
       "        [4.0000e-06, 4.0000e-06, 4.0000e-06],\n",
       "        [9.1792e-01, 9.1792e-01, 9.1792e-01],\n",
       "        [4.8268e-01, 4.8268e-01, 4.8268e-01],\n",
       "        [1.0780e-02, 1.0780e-02, 1.0780e-02],\n",
       "        [2.0398e-01, 2.0398e-01, 2.0398e-01],\n",
       "        [0.0000e+00, 0.0000e+00, 0.0000e+00],\n",
       "        [0.0000e+00, 0.0000e+00, 0.0000e+00],\n",
       "        [0.0000e+00, 0.0000e+00, 0.0000e+00],\n",
       "        [9.8704e-01, 9.8704e-01, 9.8704e-01],\n",
       "        [1.3586e-01, 1.3586e-01, 1.3586e-01],\n",
       "        [2.4543e-02, 2.4543e-02, 2.4543e-02],\n",
       "        [0.0000e+00, 0.0000e+00, 0.0000e+00],\n",
       "        [3.2123e-01, 3.2123e-01, 3.2123e-01],\n",
       "        [9.8979e-01, 9.8979e-01, 9.8979e-01],\n",
       "        [6.9286e-01, 6.9286e-01, 6.9286e-01],\n",
       "        [1.6524e-01, 1.6524e-01, 1.6524e-01],\n",
       "        [3.5726e-01, 3.5726e-01, 3.5726e-01],\n",
       "        [0.0000e+00, 0.0000e+00, 0.0000e+00],\n",
       "        [5.5923e-01, 5.5923e-01, 5.5923e-01],\n",
       "        [0.0000e+00, 0.0000e+00, 0.0000e+00],\n",
       "        [8.9007e-02, 8.9007e-02, 8.9007e-02],\n",
       "        [1.7536e-02, 1.7536e-02, 1.7536e-02],\n",
       "        [8.8600e-04, 8.8600e-04, 8.8600e-04],\n",
       "        [4.8240e-03, 4.8240e-03, 4.8240e-03],\n",
       "        [9.1366e-01, 9.1366e-01, 9.1366e-01],\n",
       "        [3.8820e-03, 3.8820e-03, 3.8820e-03],\n",
       "        [9.7907e-01, 9.7907e-01, 9.7907e-01],\n",
       "        [5.1880e-03, 5.1880e-03, 5.1880e-03],\n",
       "        [3.0000e-06, 3.0000e-06, 3.0000e-06],\n",
       "        [0.0000e+00, 0.0000e+00, 0.0000e+00],\n",
       "        [0.0000e+00, 0.0000e+00, 0.0000e+00],\n",
       "        [5.8000e-05, 5.8000e-05, 5.8000e-05],\n",
       "        [7.5786e-01, 7.5786e-01, 7.5786e-01],\n",
       "        [6.1655e-01, 6.1655e-01, 6.1655e-01],\n",
       "        [9.8210e-01, 9.8210e-01, 9.8210e-01],\n",
       "        [9.8708e-01, 9.8708e-01, 9.8708e-01],\n",
       "        [0.0000e+00, 0.0000e+00, 0.0000e+00],\n",
       "        [0.0000e+00, 0.0000e+00, 0.0000e+00],\n",
       "        [0.0000e+00, 0.0000e+00, 0.0000e+00],\n",
       "        [1.8800e-04, 1.8800e-04, 1.8800e-04],\n",
       "        [9.8637e-01, 9.8637e-01, 9.8637e-01],\n",
       "        [9.8173e-01, 9.8173e-01, 9.8173e-01],\n",
       "        [1.5600e-04, 1.5600e-04, 1.5600e-04],\n",
       "        [0.0000e+00, 0.0000e+00, 0.0000e+00],\n",
       "        [0.0000e+00, 0.0000e+00, 0.0000e+00],\n",
       "        [0.0000e+00, 0.0000e+00, 0.0000e+00],\n",
       "        [0.0000e+00, 0.0000e+00, 0.0000e+00],\n",
       "        [0.0000e+00, 0.0000e+00, 0.0000e+00],\n",
       "        [0.0000e+00, 0.0000e+00, 0.0000e+00],\n",
       "        [0.0000e+00, 0.0000e+00, 0.0000e+00],\n",
       "        [2.6910e-03, 2.6910e-03, 2.6910e-03],\n",
       "        [3.1750e-03, 3.1750e-03, 3.1750e-03],\n",
       "        [0.0000e+00, 0.0000e+00, 0.0000e+00],\n",
       "        [0.0000e+00, 0.0000e+00, 0.0000e+00],\n",
       "        [0.0000e+00, 0.0000e+00, 0.0000e+00],\n",
       "        [0.0000e+00, 0.0000e+00, 0.0000e+00],\n",
       "        [0.0000e+00, 0.0000e+00, 0.0000e+00],\n",
       "        [0.0000e+00, 0.0000e+00, 0.0000e+00],\n",
       "        [0.0000e+00, 0.0000e+00, 0.0000e+00],\n",
       "        [0.0000e+00, 0.0000e+00, 0.0000e+00],\n",
       "        [0.0000e+00, 0.0000e+00, 0.0000e+00],\n",
       "        [0.0000e+00, 0.0000e+00, 0.0000e+00],\n",
       "        [0.0000e+00, 0.0000e+00, 0.0000e+00],\n",
       "        [0.0000e+00, 0.0000e+00, 0.0000e+00],\n",
       "        [0.0000e+00, 0.0000e+00, 0.0000e+00],\n",
       "        [0.0000e+00, 0.0000e+00, 0.0000e+00],\n",
       "        [0.0000e+00, 0.0000e+00, 0.0000e+00],\n",
       "        [0.0000e+00, 0.0000e+00, 0.0000e+00],\n",
       "        [0.0000e+00, 0.0000e+00, 0.0000e+00],\n",
       "        [0.0000e+00, 0.0000e+00, 0.0000e+00],\n",
       "        [0.0000e+00, 0.0000e+00, 0.0000e+00],\n",
       "        [0.0000e+00, 0.0000e+00, 0.0000e+00],\n",
       "        [0.0000e+00, 0.0000e+00, 0.0000e+00],\n",
       "        [0.0000e+00, 0.0000e+00, 0.0000e+00],\n",
       "        [0.0000e+00, 0.0000e+00, 0.0000e+00],\n",
       "        [0.0000e+00, 0.0000e+00, 0.0000e+00],\n",
       "        [0.0000e+00, 0.0000e+00, 0.0000e+00],\n",
       "        [0.0000e+00, 0.0000e+00, 0.0000e+00],\n",
       "        [0.0000e+00, 0.0000e+00, 0.0000e+00],\n",
       "        [0.0000e+00, 0.0000e+00, 0.0000e+00],\n",
       "        [0.0000e+00, 0.0000e+00, 0.0000e+00],\n",
       "        [0.0000e+00, 0.0000e+00, 0.0000e+00],\n",
       "        [0.0000e+00, 0.0000e+00, 0.0000e+00],\n",
       "        [0.0000e+00, 0.0000e+00, 0.0000e+00],\n",
       "        [0.0000e+00, 0.0000e+00, 0.0000e+00],\n",
       "        [0.0000e+00, 0.0000e+00, 0.0000e+00],\n",
       "        [0.0000e+00, 0.0000e+00, 0.0000e+00],\n",
       "        [0.0000e+00, 0.0000e+00, 0.0000e+00],\n",
       "        [0.0000e+00, 0.0000e+00, 0.0000e+00],\n",
       "        [0.0000e+00, 0.0000e+00, 0.0000e+00],\n",
       "        [0.0000e+00, 0.0000e+00, 0.0000e+00],\n",
       "        [0.0000e+00, 0.0000e+00, 0.0000e+00],\n",
       "        [0.0000e+00, 0.0000e+00, 0.0000e+00],\n",
       "        [0.0000e+00, 0.0000e+00, 0.0000e+00],\n",
       "        [0.0000e+00, 0.0000e+00, 0.0000e+00],\n",
       "        [0.0000e+00, 0.0000e+00, 0.0000e+00],\n",
       "        [0.0000e+00, 0.0000e+00, 0.0000e+00],\n",
       "        [0.0000e+00, 0.0000e+00, 0.0000e+00],\n",
       "        [0.0000e+00, 0.0000e+00, 0.0000e+00]])"
      ]
     },
     "execution_count": 45,
     "metadata": {},
     "output_type": "execute_result"
    }
   ],
   "source": [
    "tmp[mask[0, 0] == 1]"
   ]
  },
  {
   "cell_type": "code",
   "execution_count": 46,
   "metadata": {},
   "outputs": [
    {
     "data": {
      "text/plain": [
       "tensor([0.0000e+00, 0.0000e+00, 0.0000e+00, 0.0000e+00, 0.0000e+00, 0.0000e+00,\n",
       "        0.0000e+00, 0.0000e+00, 0.0000e+00, 0.0000e+00, 0.0000e+00, 0.0000e+00,\n",
       "        0.0000e+00, 0.0000e+00, 0.0000e+00, 0.0000e+00, 0.0000e+00, 2.1530e-03,\n",
       "        0.0000e+00, 0.0000e+00, 0.0000e+00, 0.0000e+00, 0.0000e+00, 0.0000e+00,\n",
       "        0.0000e+00, 0.0000e+00, 3.3590e-03, 8.0499e-02, 0.0000e+00, 0.0000e+00,\n",
       "        0.0000e+00, 0.0000e+00, 9.7292e-02, 1.4974e-01, 0.0000e+00, 0.0000e+00,\n",
       "        0.0000e+00, 0.0000e+00, 0.0000e+00, 0.0000e+00, 1.4251e-01, 3.9968e-01,\n",
       "        0.0000e+00, 0.0000e+00, 0.0000e+00, 0.0000e+00, 9.3535e-01, 5.8385e-01,\n",
       "        3.7000e-05, 0.0000e+00, 0.0000e+00, 0.0000e+00, 0.0000e+00, 6.9101e-01,\n",
       "        7.0215e-01, 8.7496e-01, 0.0000e+00, 0.0000e+00, 0.0000e+00, 0.0000e+00,\n",
       "        0.0000e+00, 1.5000e-05, 9.3253e-01, 5.6472e-01, 1.8403e-02, 4.9355e-01,\n",
       "        9.8511e-01, 0.0000e+00, 0.0000e+00, 0.0000e+00, 9.7935e-01, 6.6465e-01,\n",
       "        2.9400e-04, 0.0000e+00, 0.0000e+00, 3.0000e-06, 1.8535e-01, 0.0000e+00,\n",
       "        0.0000e+00, 1.0000e-06, 9.8505e-01, 3.0000e-06, 5.7604e-01, 1.4839e-02,\n",
       "        7.3997e-01, 0.0000e+00, 9.8350e-03, 1.5288e-01, 8.0086e-01, 8.3527e-01,\n",
       "        4.0000e-06, 9.1792e-01, 4.8268e-01, 1.0780e-02, 2.0398e-01, 0.0000e+00,\n",
       "        0.0000e+00, 0.0000e+00, 9.8704e-01, 1.3586e-01, 2.4543e-02, 0.0000e+00,\n",
       "        3.2123e-01, 9.8979e-01, 6.9286e-01, 1.6524e-01, 3.5726e-01, 0.0000e+00,\n",
       "        5.5923e-01, 0.0000e+00, 8.9007e-02, 1.7536e-02, 8.8600e-04, 4.8240e-03,\n",
       "        9.1366e-01, 3.8820e-03, 9.7907e-01, 5.1880e-03, 3.0000e-06, 0.0000e+00,\n",
       "        0.0000e+00, 5.8000e-05, 7.5786e-01, 6.1655e-01, 9.8210e-01, 9.8708e-01,\n",
       "        0.0000e+00, 0.0000e+00, 0.0000e+00, 1.8800e-04, 9.8637e-01, 9.8173e-01,\n",
       "        1.5600e-04, 0.0000e+00, 0.0000e+00, 0.0000e+00, 0.0000e+00, 0.0000e+00,\n",
       "        0.0000e+00, 0.0000e+00, 2.6910e-03, 3.1750e-03, 0.0000e+00, 0.0000e+00,\n",
       "        0.0000e+00, 0.0000e+00, 0.0000e+00, 0.0000e+00, 0.0000e+00, 0.0000e+00,\n",
       "        0.0000e+00, 0.0000e+00, 0.0000e+00, 0.0000e+00, 0.0000e+00, 0.0000e+00,\n",
       "        0.0000e+00, 0.0000e+00, 0.0000e+00, 0.0000e+00, 0.0000e+00, 0.0000e+00,\n",
       "        0.0000e+00, 0.0000e+00, 0.0000e+00, 0.0000e+00, 0.0000e+00, 0.0000e+00,\n",
       "        0.0000e+00, 0.0000e+00, 0.0000e+00, 0.0000e+00, 0.0000e+00, 0.0000e+00,\n",
       "        0.0000e+00, 0.0000e+00, 0.0000e+00, 0.0000e+00, 0.0000e+00, 0.0000e+00,\n",
       "        0.0000e+00, 0.0000e+00, 0.0000e+00, 0.0000e+00, 0.0000e+00, 0.0000e+00,\n",
       "        0.0000e+00, 0.0000e+00, 0.0000e+00])"
      ]
     },
     "execution_count": 46,
     "metadata": {},
     "output_type": "execute_result"
    }
   ],
   "source": [
    "x[0, 0][mask[0, 0] == 1]"
   ]
  },
  {
   "cell_type": "code",
   "execution_count": 47,
   "metadata": {},
   "outputs": [],
   "source": [
    "from lienp.models.liecnp import GridLieCNP"
   ]
  },
  {
   "cell_type": "code",
   "execution_count": 48,
   "metadata": {},
   "outputs": [],
   "source": [
    "gcnp = GridLieCNP()"
   ]
  },
  {
   "cell_type": "code",
   "execution_count": 49,
   "metadata": {},
   "outputs": [
    {
     "data": {
      "text/plain": [
       "<matplotlib.image.AxesImage at 0x12f197290>"
      ]
     },
     "execution_count": 49,
     "metadata": {},
     "output_type": "execute_result"
    },
    {
     "data": {
      "image/png": "[encoded data removed]",
      "text/plain": [
       "<Figure size 432x288 with 1 Axes>"
      ]
     },
     "metadata": {
      "needs_background": "light"
     },
     "output_type": "display_data"
    }
   ],
   "source": [
    "plt.imshow(gcnp(x)[0][0].detach().reshape(28, 28))"
   ]
  },
  {
   "cell_type": "code",
   "execution_count": 50,
   "metadata": {},
   "outputs": [
    {
     "data": {
      "text/plain": [
       "GridLieCNP(\n",
       "  (conv_theta): LieConv(\n",
       "    C_in=1, C_out=128, C_mid=16, coords_dim=2, nbhd=81, sampling_fraction=1.0, mean=True\n",
       "    fill=0.013, r=1.757\n",
       "    (subsample): GroupFartherSubsample(group=T(0.2))\n",
       "    (weightnet): WeightNet(in_features=2, out_features=16, hidden_features=32, bn=True)\n",
       "    (linear): Linear(in_features=16, out_features=128, bias=True)\n",
       "  )\n",
       "  (cnn): Sequential(\n",
       "    (0): Apply(\n",
       "      dim=1\n",
       "      (module): Linear(in_features=256, out_features=128, bias=True)\n",
       "    )\n",
       "    (1): ResBlock(\n",
       "      (conv): Sequential(\n",
       "        (0): SeparableLieConv(\n",
       "          (depthwise): DepthwiseLieConv(\n",
       "            C_in=128, C_out=128, C_mid=128, coords_dim=2, nbhd=25, sampling_fraction=1.0, mean=True\n",
       "            fill=0.040, r=1.884\n",
       "            (subsample): GroupFartherSubsample(group=T(0.2))\n",
       "            (weightnet): WeightNet(in_features=2, out_features=128, hidden_features=32, bn=True)\n",
       "            (linear): None\n",
       "          )\n",
       "          (pointwise): Linear(in_features=128, out_features=128, bias=True)\n",
       "        )\n",
       "        (1): Apply(\n",
       "          dim=1\n",
       "          (module): ReLU()\n",
       "        )\n",
       "        (2): SeparableLieConv(\n",
       "          (depthwise): DepthwiseLieConv(\n",
       "            C_in=128, C_out=128, C_mid=128, coords_dim=2, nbhd=25, sampling_fraction=1.0, mean=True\n",
       "            fill=0.040, r=1.884\n",
       "            (subsample): GroupFartherSubsample(group=T(0.2))\n",
       "            (weightnet): WeightNet(in_features=2, out_features=128, hidden_features=32, bn=True)\n",
       "            (linear): None\n",
       "          )\n",
       "          (pointwise): Linear(in_features=128, out_features=128, bias=True)\n",
       "        )\n",
       "      )\n",
       "      (final_relu): ReLU()\n",
       "    )\n",
       "    (2): ResBlock(\n",
       "      (conv): Sequential(\n",
       "        (0): SeparableLieConv(\n",
       "          (depthwise): DepthwiseLieConv(\n",
       "            C_in=128, C_out=128, C_mid=128, coords_dim=2, nbhd=25, sampling_fraction=1.0, mean=True\n",
       "            fill=0.040, r=1.884\n",
       "            (subsample): GroupFartherSubsample(group=T(0.2))\n",
       "            (weightnet): WeightNet(in_features=2, out_features=128, hidden_features=32, bn=True)\n",
       "            (linear): None\n",
       "          )\n",
       "          (pointwise): Linear(in_features=128, out_features=128, bias=True)\n",
       "        )\n",
       "        (1): Apply(\n",
       "          dim=1\n",
       "          (module): ReLU()\n",
       "        )\n",
       "        (2): SeparableLieConv(\n",
       "          (depthwise): DepthwiseLieConv(\n",
       "            C_in=128, C_out=128, C_mid=128, coords_dim=2, nbhd=25, sampling_fraction=1.0, mean=True\n",
       "            fill=0.040, r=1.884\n",
       "            (subsample): GroupFartherSubsample(group=T(0.2))\n",
       "            (weightnet): WeightNet(in_features=2, out_features=128, hidden_features=32, bn=True)\n",
       "            (linear): None\n",
       "          )\n",
       "          (pointwise): Linear(in_features=128, out_features=128, bias=True)\n",
       "        )\n",
       "      )\n",
       "      (final_relu): ReLU()\n",
       "    )\n",
       "    (3): ResBlock(\n",
       "      (conv): Sequential(\n",
       "        (0): SeparableLieConv(\n",
       "          (depthwise): DepthwiseLieConv(\n",
       "            C_in=128, C_out=128, C_mid=128, coords_dim=2, nbhd=25, sampling_fraction=1.0, mean=True\n",
       "            fill=0.040, r=1.884\n",
       "            (subsample): GroupFartherSubsample(group=T(0.2))\n",
       "            (weightnet): WeightNet(in_features=2, out_features=128, hidden_features=32, bn=True)\n",
       "            (linear): None\n",
       "          )\n",
       "          (pointwise): Linear(in_features=128, out_features=128, bias=True)\n",
       "        )\n",
       "        (1): Apply(\n",
       "          dim=1\n",
       "          (module): ReLU()\n",
       "        )\n",
       "        (2): SeparableLieConv(\n",
       "          (depthwise): DepthwiseLieConv(\n",
       "            C_in=128, C_out=128, C_mid=128, coords_dim=2, nbhd=25, sampling_fraction=1.0, mean=True\n",
       "            fill=0.040, r=1.884\n",
       "            (subsample): GroupFartherSubsample(group=T(0.2))\n",
       "            (weightnet): WeightNet(in_features=2, out_features=128, hidden_features=32, bn=True)\n",
       "            (linear): None\n",
       "          )\n",
       "          (pointwise): Linear(in_features=128, out_features=128, bias=True)\n",
       "        )\n",
       "      )\n",
       "      (final_relu): ReLU()\n",
       "    )\n",
       "    (4): ResBlock(\n",
       "      (conv): Sequential(\n",
       "        (0): SeparableLieConv(\n",
       "          (depthwise): DepthwiseLieConv(\n",
       "            C_in=128, C_out=128, C_mid=128, coords_dim=2, nbhd=25, sampling_fraction=1.0, mean=True\n",
       "            fill=0.040, r=1.884\n",
       "            (subsample): GroupFartherSubsample(group=T(0.2))\n",
       "            (weightnet): WeightNet(in_features=2, out_features=128, hidden_features=32, bn=True)\n",
       "            (linear): None\n",
       "          )\n",
       "          (pointwise): Linear(in_features=128, out_features=128, bias=True)\n",
       "        )\n",
       "        (1): Apply(\n",
       "          dim=1\n",
       "          (module): ReLU()\n",
       "        )\n",
       "        (2): SeparableLieConv(\n",
       "          (depthwise): DepthwiseLieConv(\n",
       "            C_in=128, C_out=128, C_mid=128, coords_dim=2, nbhd=25, sampling_fraction=1.0, mean=True\n",
       "            fill=0.040, r=1.884\n",
       "            (subsample): GroupFartherSubsample(group=T(0.2))\n",
       "            (weightnet): WeightNet(in_features=2, out_features=128, hidden_features=32, bn=True)\n",
       "            (linear): None\n",
       "          )\n",
       "          (pointwise): Linear(in_features=128, out_features=128, bias=True)\n",
       "        )\n",
       "      )\n",
       "      (final_relu): ReLU()\n",
       "    )\n",
       "    (5): Apply(\n",
       "      dim=1\n",
       "      (module): Linear(in_features=128, out_features=2, bias=True)\n",
       "    )\n",
       "  )\n",
       "  (pos): Softplus(beta=1, threshold=20)\n",
       ")"
      ]
     },
     "execution_count": 50,
     "metadata": {},
     "output_type": "execute_result"
    }
   ],
   "source": [
    "gcnp"
   ]
  },
  {
   "cell_type": "code",
   "execution_count": null,
   "metadata": {},
   "outputs": [],
   "source": []
  },
  {
   "cell_type": "code",
   "execution_count": 51,
   "metadata": {},
   "outputs": [
    {
     "data": {
      "text/plain": [
       "GridLieCNP(\n",
       "  (conv_theta): LieConv(\n",
       "    C_in=1, C_out=128, C_mid=16, coords_dim=3, nbhd=81, sampling_fraction=1.0, mean=True\n",
       "    fill=0.013, r=2.000\n",
       "    (subsample): GroupFartherSubsample(group=SO2(0.2))\n",
       "    (weightnet): WeightNet(in_features=3, out_features=16, hidden_features=32, bn=True)\n",
       "    (linear): Linear(in_features=16, out_features=128, bias=True)\n",
       "  )\n",
       "  (cnn): Sequential(\n",
       "    (0): Apply(\n",
       "      dim=1\n",
       "      (module): Linear(in_features=256, out_features=128, bias=True)\n",
       "    )\n",
       "    (1): ResBlock(\n",
       "      (conv): Sequential(\n",
       "        (0): SeparableLieConv(\n",
       "          (depthwise): DepthwiseLieConv(\n",
       "            C_in=128, C_out=128, C_mid=128, coords_dim=3, nbhd=25, sampling_fraction=1.0, mean=True\n",
       "            fill=0.040, r=2.000\n",
       "            (subsample): GroupFartherSubsample(group=SO2(0.2))\n",
       "            (weightnet): WeightNet(in_features=3, out_features=128, hidden_features=32, bn=True)\n",
       "            (linear): None\n",
       "          )\n",
       "          (pointwise): Linear(in_features=128, out_features=128, bias=True)\n",
       "        )\n",
       "        (1): Apply(\n",
       "          dim=1\n",
       "          (module): ReLU()\n",
       "        )\n",
       "        (2): SeparableLieConv(\n",
       "          (depthwise): DepthwiseLieConv(\n",
       "            C_in=128, C_out=128, C_mid=128, coords_dim=3, nbhd=25, sampling_fraction=1.0, mean=True\n",
       "            fill=0.040, r=2.000\n",
       "            (subsample): GroupFartherSubsample(group=SO2(0.2))\n",
       "            (weightnet): WeightNet(in_features=3, out_features=128, hidden_features=32, bn=True)\n",
       "            (linear): None\n",
       "          )\n",
       "          (pointwise): Linear(in_features=128, out_features=128, bias=True)\n",
       "        )\n",
       "      )\n",
       "      (final_relu): ReLU()\n",
       "    )\n",
       "    (2): ResBlock(\n",
       "      (conv): Sequential(\n",
       "        (0): SeparableLieConv(\n",
       "          (depthwise): DepthwiseLieConv(\n",
       "            C_in=128, C_out=128, C_mid=128, coords_dim=3, nbhd=25, sampling_fraction=1.0, mean=True\n",
       "            fill=0.040, r=2.000\n",
       "            (subsample): GroupFartherSubsample(group=SO2(0.2))\n",
       "            (weightnet): WeightNet(in_features=3, out_features=128, hidden_features=32, bn=True)\n",
       "            (linear): None\n",
       "          )\n",
       "          (pointwise): Linear(in_features=128, out_features=128, bias=True)\n",
       "        )\n",
       "        (1): Apply(\n",
       "          dim=1\n",
       "          (module): ReLU()\n",
       "        )\n",
       "        (2): SeparableLieConv(\n",
       "          (depthwise): DepthwiseLieConv(\n",
       "            C_in=128, C_out=128, C_mid=128, coords_dim=3, nbhd=25, sampling_fraction=1.0, mean=True\n",
       "            fill=0.040, r=2.000\n",
       "            (subsample): GroupFartherSubsample(group=SO2(0.2))\n",
       "            (weightnet): WeightNet(in_features=3, out_features=128, hidden_features=32, bn=True)\n",
       "            (linear): None\n",
       "          )\n",
       "          (pointwise): Linear(in_features=128, out_features=128, bias=True)\n",
       "        )\n",
       "      )\n",
       "      (final_relu): ReLU()\n",
       "    )\n",
       "    (3): ResBlock(\n",
       "      (conv): Sequential(\n",
       "        (0): SeparableLieConv(\n",
       "          (depthwise): DepthwiseLieConv(\n",
       "            C_in=128, C_out=128, C_mid=128, coords_dim=3, nbhd=25, sampling_fraction=1.0, mean=True\n",
       "            fill=0.040, r=2.000\n",
       "            (subsample): GroupFartherSubsample(group=SO2(0.2))\n",
       "            (weightnet): WeightNet(in_features=3, out_features=128, hidden_features=32, bn=True)\n",
       "            (linear): None\n",
       "          )\n",
       "          (pointwise): Linear(in_features=128, out_features=128, bias=True)\n",
       "        )\n",
       "        (1): Apply(\n",
       "          dim=1\n",
       "          (module): ReLU()\n",
       "        )\n",
       "        (2): SeparableLieConv(\n",
       "          (depthwise): DepthwiseLieConv(\n",
       "            C_in=128, C_out=128, C_mid=128, coords_dim=3, nbhd=25, sampling_fraction=1.0, mean=True\n",
       "            fill=0.040, r=2.000\n",
       "            (subsample): GroupFartherSubsample(group=SO2(0.2))\n",
       "            (weightnet): WeightNet(in_features=3, out_features=128, hidden_features=32, bn=True)\n",
       "            (linear): None\n",
       "          )\n",
       "          (pointwise): Linear(in_features=128, out_features=128, bias=True)\n",
       "        )\n",
       "      )\n",
       "      (final_relu): ReLU()\n",
       "    )\n",
       "    (4): ResBlock(\n",
       "      (conv): Sequential(\n",
       "        (0): SeparableLieConv(\n",
       "          (depthwise): DepthwiseLieConv(\n",
       "            C_in=128, C_out=128, C_mid=128, coords_dim=3, nbhd=25, sampling_fraction=1.0, mean=True\n",
       "            fill=0.040, r=2.000\n",
       "            (subsample): GroupFartherSubsample(group=SO2(0.2))\n",
       "            (weightnet): WeightNet(in_features=3, out_features=128, hidden_features=32, bn=True)\n",
       "            (linear): None\n",
       "          )\n",
       "          (pointwise): Linear(in_features=128, out_features=128, bias=True)\n",
       "        )\n",
       "        (1): Apply(\n",
       "          dim=1\n",
       "          (module): ReLU()\n",
       "        )\n",
       "        (2): SeparableLieConv(\n",
       "          (depthwise): DepthwiseLieConv(\n",
       "            C_in=128, C_out=128, C_mid=128, coords_dim=3, nbhd=25, sampling_fraction=1.0, mean=True\n",
       "            fill=0.040, r=2.000\n",
       "            (subsample): GroupFartherSubsample(group=SO2(0.2))\n",
       "            (weightnet): WeightNet(in_features=3, out_features=128, hidden_features=32, bn=True)\n",
       "            (linear): None\n",
       "          )\n",
       "          (pointwise): Linear(in_features=128, out_features=128, bias=True)\n",
       "        )\n",
       "      )\n",
       "      (final_relu): ReLU()\n",
       "    )\n",
       "    (5): Apply(\n",
       "      dim=1\n",
       "      (module): Linear(in_features=128, out_features=2, bias=True)\n",
       "    )\n",
       "  )\n",
       "  (pos): Softplus(beta=1, threshold=20)\n",
       ")"
      ]
     },
     "execution_count": 51,
     "metadata": {},
     "output_type": "execute_result"
    }
   ],
   "source": [
    "GridLieCNP(group=SO2(0.2))"
   ]
  },
  {
   "cell_type": "code",
   "execution_count": null,
   "metadata": {},
   "outputs": [],
   "source": []
  }
 ],
 "metadata": {
  "kernelspec": {
   "display_name": "liecnp",
   "language": "python",
   "name": "liecnp"
  },
  "language_info": {
   "codemirror_mode": {
    "name": "ipython",
    "version": 3
   },
   "file_extension": ".py",
   "mimetype": "text/x-python",
   "name": "python",
   "nbconvert_exporter": "python",
   "pygments_lexer": "ipython3",
   "version": "3.7.6"
  }
 },
 "nbformat": 4,
 "nbformat_minor": 4
}
