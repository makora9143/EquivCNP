{
 "cells": [
  {
   "cell_type": "code",
   "execution_count": 19,
   "metadata": {},
   "outputs": [],
   "source": [
    "import torch\n",
    "import torch.nn as nn\n",
    "from lienp.liegroups import *\n",
    "from lienp.modules import *\n",
    "from lienp.modules.lieconv import SeparableLieConv\n",
    "\n",
    "device = torch.device('cuda' if torch.cuda.is_available() else 'cpu')\n",
    "\n",
    "class GridLieCNP(nn.Module):\n",
    "    \"\"\"Grid LieGroup Convolutional Conditional Neural Process\n",
    "    \"\"\"\n",
    "    def __init__(self, channel=1, group=T(2)):\n",
    "        super().__init__()\n",
    "        self.channel = channel\n",
    "        self.group = group\n",
    "\n",
    "        self.conv_theta = LieConv(channel, 128, group=group,\n",
    "                                  num_nbhd=81, sampling_fraction=1., fill=1 / 10,\n",
    "                                  use_bn=True, mean=True, cache=True)\n",
    "\n",
    "        self.cnn = nn.Sequential(\n",
    "            Apply(nn.Linear(128 * 2, 128), dim=1),\n",
    "            ResBlock(128, 128, mean=True, group=group),\n",
    "            ResBlock(128, 128, mean=True, group=group),\n",
    "            ResBlock(128, 128, mean=True, group=group),\n",
    "            ResBlock(128, 128, mean=True, group=group),\n",
    "            Apply(nn.Linear(128, 2 * channel))\n",
    "        )\n",
    "        self.pos = nn.Softplus()\n",
    "\n",
    "    def forward(self, x):\n",
    "        B, C, W, H = x.shape\n",
    "        ctx_coords, ctx_density, ctx_signal, ctx_mask = self.get_masked_image(x)\n",
    "        lifted_ctx_coords, lifted_ctx_density, lifted_ctx_mask = self.group.lift((ctx_coords, ctx_density, ctx_mask), 1)\n",
    "        lifted_ctx_signal, _ = self.group.expand_like(ctx_signal, ctx_mask, lifted_ctx_coords)\n",
    "\n",
    "        lifted_ctx_coords, density_prime, lifted_ctx_mask = self.conv_theta((lifted_ctx_coords, lifted_ctx_density, lifted_ctx_mask))\n",
    "        _, signal_prime, _ = self.conv_theta((lifted_ctx_coords, lifted_ctx_signal, lifted_ctx_mask))\n",
    "\n",
    "        ctx_h = torch.cat([density_prime, signal_prime], -1)\n",
    "        _, f, _ = self.cnn((lifted_ctx_coords, ctx_h, lifted_ctx_mask))\n",
    "        mean, std = f.split(self.channel, -1)\n",
    "\n",
    "        mean = mean.squeeze(-1)\n",
    "        std = self.pos(std).squeeze(-1)\n",
    "        return mean, std.diag_embed(), ctx_density.reshape(B, H, W, C).permute(0, 3, 1, 2)\n",
    "\n",
    "    def predict(self, x, ctx_coords, ctx_density, ctx_signal, ctx_mask):\n",
    "        B, C, W, H = x.shape\n",
    "        lifted_ctx_coords, lifted_ctx_density, lifted_ctx_mask = self.group.lift((ctx_coords, ctx_density, ctx_mask), 1)\n",
    "        lifted_ctx_signal, _ = self.group.expand_like(ctx_signal, ctx_mask, lifted_ctx_coords)\n",
    "\n",
    "        lifted_ctx_coords, density_prime, lifted_ctx_mask = self.conv_theta((lifted_ctx_coords, lifted_ctx_density, lifted_ctx_mask))\n",
    "        _, signal_prime, _ = self.conv_theta((lifted_ctx_coords, lifted_ctx_signal, lifted_ctx_mask))\n",
    "\n",
    "        ctx_h = torch.cat([density_prime, signal_prime], -1)\n",
    "        _, f, _ = self.cnn((lifted_ctx_coords, ctx_h, lifted_ctx_mask))\n",
    "        mean, std = f.split(self.channel, -1)\n",
    "\n",
    "        mean = mean.squeeze(-1)\n",
    "        std = self.pos(std).squeeze(-1)\n",
    "        return mean, std.diag_embed(), ctx_density.reshape(B, H, W, C).permute(0, 3, 1, 2)\n",
    "\n",
    "    def get_masked_image(self, img):\n",
    "        \"\"\"Get Context image and Target image\n",
    "\n",
    "        Args:\n",
    "            img (FloatTensor): image tensor (B, C, W, H)\n",
    "\n",
    "        Returns:\n",
    "            ctx_coords (FloatTensor): [B, W*H, 2]\n",
    "            ctx_density (FloatTensor): [B, W*H, C]\n",
    "            ctx_signal (FloatTensor): [B, W*H, C]\n",
    "\n",
    "        \"\"\"\n",
    "        B, C, H, W = img.shape\n",
    "        total_size = W * H\n",
    "\n",
    "        if self.training:\n",
    "            # uniform mask #FIXME\n",
    "            ctx_size = torch.empty(B, 1, 1, 1).uniform_(total_size / 100, total_size / 2)\n",
    "            # Broadcast to channel-axis [B, 1, W, H] -> [B，C, W, H]\n",
    "            ctx_mask = img.new_empty(B, 1, W, H).bernoulli_(p=ctx_size / total_size).repeat(1, C, 1, 1)\n",
    "        else:\n",
    "            # box mask\n",
    "            ctx_size = torch.empty(B, 1, 1, 1).uniform_(total_size / 100, total_size / 2)\n",
    "            # Broadcast to channel-axis [B, 1, W, H] -> [B，C, W, H]\n",
    "            ctx_mask = img.new_empty(B, 1, W, H).bernoulli_(p=ctx_size / total_size).repeat(1, C, 1, 1)\n",
    "\n",
    "        #  [B, C, W, H] -> [B, W, H, C] -> [B, W*H, C]\n",
    "        ctx_signal = (ctx_mask * img).permute(0, 2, 3, 1).reshape(B, -1, C)\n",
    "\n",
    "        ctx_coords = torch.linspace(-W / 2., W / 2., W, device=img.device)\n",
    "        # [B, W*H, 2]\n",
    "        ctx_coords = torch.stack(torch.meshgrid([ctx_coords, ctx_coords]), -1).reshape(1, -1, 2).repeat(B, 1, 1)\n",
    "        ctx_density = ctx_mask.reshape(B, -1, C)\n",
    "        # ctx_mask = torch.ones(*ctx_signal.shape[:2], device=img.device).bool()\n",
    "        ctx_mask = img.new_ones(B, W * H, dtype=torch.bool)\n",
    "        return ctx_coords, ctx_density, ctx_signal, ctx_mask\n",
    "\n",
    "\n",
    "class ResBlock(nn.Module):\n",
    "    def __init__(self, in_channels, out_channels, group=T(2), mean=False, r=2.):\n",
    "        super().__init__()\n",
    "        self.in_channels = in_channels\n",
    "        self.out_channels = out_channels\n",
    "        self.group = group\n",
    "\n",
    "        self.conv = nn.Sequential(\n",
    "            SeparableLieConv(in_channels, out_channels, num_nbhd=81, fill=1 / 15, sample=1., group=group, r=r, use_bn=False, mean=True),\n",
    "            Apply(nn.ReLU(inplace=True), dim=1),\n",
    "            SeparableLieConv(out_channels, out_channels, num_nbhd=81, fill=1 / 15, sample=1., group=group, r=r, use_bn=False, mean=True)\n",
    "        )\n",
    "        self.final_relu = nn.ReLU(inplace=True)\n",
    "\n",
    "    def forward(self, x):\n",
    "        shortcut = x\n",
    "        coords, values, mask = self.conv(x)\n",
    "        values = self.final_relu(values + shortcut[1])\n",
    "        return coords, values, mask"
   ]
  },
  {
   "cell_type": "code",
   "execution_count": 20,
   "metadata": {},
   "outputs": [],
   "source": [
    "from torchvision.utils import make_grid, save_image\n",
    "import torch\n",
    "from torchvision.transforms import functional as F\n",
    "from torchvision import transforms as tf\n",
    "from lienp.datasets.clockdigit import ClockDigit\n",
    "from torch.utils.data import DataLoader\n",
    "import matplotlib.pyplot as plt\n",
    "def show(img):\n",
    "    npimg = img.numpy()\n",
    "    plt.imshow(np.transpose(npimg, (1,2,0)), interpolation='nearest')\n",
    "    \n",
    "    \n",
    "test_tf = tf.Compose([\n",
    "    tf.Pad(16),\n",
    "    tf.Lambda(lambda x: tf.functional.affine(x, 5, (0, 0), 2.0, 0)),\n",
    "    tf.ToTensor()\n",
    "])\n",
    "\n",
    "transforms = tf.Compose([\n",
    "            tf.Pad(16),\n",
    "            tf.RandomAffine(degrees=90, scale=(0.6, 0.9)),\n",
    "            tf.ToTensor()\n",
    "        ])\n",
    "batch_size = 1\n",
    "testset = ClockDigit(\"~/data/clockdigits\", download=True, transform=transforms)\n",
    "dl = DataLoader(testset, batch_size=batch_size, shuffle=False)"
   ]
  },
  {
   "cell_type": "code",
   "execution_count": 18,
   "metadata": {},
   "outputs": [],
   "source": [
    "rxso2 = GridLieCNP(channel=1, group=RxSO2())\n",
    "rxso2.load_state_dict(torch.load(\"weights/2dreg/RxSO2.pth\"))\n",
    "so2 = GridLieCNP(channel=1, group=SO2())\n",
    "so2.load_state_dict(torch.load(\"weights/2dreg/SO2.pth\"))\n",
    "se2 = GridLieCNP(channel=1, group=SE2())\n",
    "se2.load_state_dict(torch.load(\"weights/2dreg/SE2.pth\"))\n",
    "t2 = GridLieCNP(channel=1, group=T(2))\n",
    "t2.load_state_dict(torch.load(\"weights/2dreg/T2.pth\"))\n",
    "\n",
    "rxso2.eval()\n",
    "so2.eval()\n",
    "se2.eval()\n",
    "t2.eval()\n",
    "\n",
    "rxso2_result = []\n",
    "so2_result = []\n",
    "se2_result = []\n",
    "t2_result = []\n",
    "\n",
    "for i in range(1):\n",
    "    imgs = iter(dl).next()[0]\n",
    "    with torch.no_grad():\n",
    "        a = t2(imgs)\n",
    "        t2_result.append(MultivariateNormal(a[0], scale_tril=a[1]).log_prob(imgs.reshape(batch_size, -1)))\n",
    "        \n",
    "        a = so2(imgs)\n",
    "        so2_result.append(MultivariateNormal(a[0], scale_tril=a[1]).log_prob(imgs.reshape(batch_size, -1)))\n",
    "        \n",
    "        a = se2(imgs)\n",
    "        se2_result.append(MultivariateNormal(a[0], scale_tril=a[1]).log_prob(imgs.reshape(batch_size, -1)))\n",
    "        \n",
    "        a = rxso2(imgs)\n",
    "        rxso2_result.append(MultivariateNormal(a[0], scale_tril=a[1]).log_prob(imgs.reshape(batch_size, -1)))"
   ]
  },
  {
   "cell_type": "code",
   "execution_count": 47,
   "metadata": {},
   "outputs": [
    {
     "data": {
      "image/png": "[encoded data removed]",
      "text/plain": [
       "<Figure size 432x288 with 1 Axes>"
      ]
     },
     "metadata": {
      "needs_background": "light"
     },
     "output_type": "display_data"
    }
   ],
   "source": [
    "show(make_grid(iter(dl).next()[0], nrow=5, pad_value=1))"
   ]
  },
  {
   "cell_type": "code",
   "execution_count": 28,
   "metadata": {},
   "outputs": [],
   "source": [
    "from torch.distributions import MultivariateNormal"
   ]
  },
  {
   "cell_type": "code",
   "execution_count": 32,
   "metadata": {},
   "outputs": [
    {
     "data": {
      "text/plain": [
       "tensor([1.5564])"
      ]
     },
     "execution_count": 32,
     "metadata": {},
     "output_type": "execute_result"
    }
   ],
   "source": [
    "MultivariateNormal(a[0], scale_tril=a[1]).log_prob(imgs.reshape(batch_size, -1)) / 4096"
   ]
  },
  {
   "cell_type": "code",
   "execution_count": null,
   "metadata": {},
   "outputs": [],
   "source": []
  }
 ],
 "metadata": {
  "kernelspec": {
   "display_name": "liecnp",
   "language": "python",
   "name": "liecnp"
  },
  "language_info": {
   "codemirror_mode": {
    "name": "ipython",
    "version": 3
   },
   "file_extension": ".py",
   "mimetype": "text/x-python",
   "name": "python",
   "nbconvert_exporter": "python",
   "pygments_lexer": "ipython3",
   "version": "3.7.6"
  }
 },
 "nbformat": 4,
 "nbformat_minor": 4
}
